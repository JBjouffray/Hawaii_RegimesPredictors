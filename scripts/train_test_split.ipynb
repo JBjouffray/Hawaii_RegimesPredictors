{
  "nbformat": 4,
  "nbformat_minor": 0,
  "metadata": {
    "colab": {
      "name": "train_test_split.ipynb",
      "provenance": []
    },
    "kernelspec": {
      "name": "python3",
      "display_name": "Python 3"
    }
  },
  "cells": [
    {
      "cell_type": "code",
      "metadata": {
        "id": "TNZMstdhPSTf"
      },
      "source": [
        "import numpy as np\n",
        "import pandas as pd\n",
        "from sklearn.model_selection import train_test_split"
      ],
      "execution_count": null,
      "outputs": []
    },
    {
      "cell_type": "code",
      "metadata": {
        "id": "AOmei1CdQMAg",
        "outputId": "43f1b593-a0fc-4b77-be81-f747afd629e2",
        "colab": {
          "base_uri": "https://localhost:8080/",
          "height": 78
        }
      },
      "source": [
        "df = pd.read_csv('/content/drive/My Drive/SMA project/Hawaiian_Predictors_revised.csv')\n",
        "\n",
        "def data_prep(df):\n",
        "    df = df.astype({\"id_spatial\": \"category\", \"Island\": \"category\", \"Habitat_Modification\": \"category\", \n",
        "               \"Invasive_Algae\": \"category\", \"Regime\": \"category\"})\n",
        "    return df\n",
        "\n",
        "df = data_prep(df)\n",
        "\n",
        "train, test = train_test_split(df, test_size=0.2, random_state = 10)\n",
        "train, val = train_test_split(train, test_size=0.2, random_state = 10)\n",
        "\n",
        "print(\"Original shape: \", df.shape)\n",
        "print(\"Train shape:    \", train.shape)\n",
        "print(\"Val shape:      \", val.shape)\n",
        "print(\"Test shape:     \", test.shape)\n",
        "\n",
        "train.to_csv('/content/drive/My Drive/SMA project/Predictors_withNA_train.csv')\n",
        "val.to_csv('/content/drive/My Drive/SMA project/Predictors_withNA_val.csv')\n",
        "test.to_csv('/content/drive/My Drive/SMA project/Predictors_withNA_test.csv')"
      ],
      "execution_count": null,
      "outputs": [
        {
          "output_type": "stream",
          "text": [
            "Original shape:  (620, 33)\n",
            "Train shape:     (396, 33)\n",
            "Val shape:       (100, 33)\n",
            "Test shape:      (124, 33)\n"
          ],
          "name": "stdout"
        }
      ]
    }
  ]
}