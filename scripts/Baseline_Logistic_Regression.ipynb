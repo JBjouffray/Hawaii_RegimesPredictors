{
  "nbformat": 4,
  "nbformat_minor": 0,
  "metadata": {
    "colab": {
      "name": "Baseline_Logistic_Regression.ipynb",
      "provenance": []
    },
    "kernelspec": {
      "name": "python3",
      "display_name": "Python 3"
    }
  },
  "cells": [
    {
      "cell_type": "markdown",
      "metadata": {
        "id": "X7N_MXvCepTn"
      },
      "source": [
        "# Logistic Regression"
      ]
    },
    {
      "cell_type": "markdown",
      "metadata": {
        "id": "vT_NwTyFeuDW"
      },
      "source": [
        "### General dependancies"
      ]
    },
    {
      "cell_type": "code",
      "metadata": {
        "id": "qzbnk0sOt6VB"
      },
      "source": [
        "import pandas as pd\n",
        "import numpy as np\n",
        "import matplotlib.pyplot as plt\n",
        "import seaborn as sns\n",
        "#import sklearn \n",
        "from sklearn.model_selection import train_test_split\n",
        "from sklearn.linear_model import LogisticRegression\n",
        "from sklearn.preprocessing import StandardScaler\n",
        "from sklearn.metrics import plot_confusion_matrix\n",
        "import sklearn.metrics\n",
        "from sklearn.metrics import f1_score\n"
      ],
      "execution_count": 21,
      "outputs": []
    },
    {
      "cell_type": "code",
      "metadata": {
        "id": "Y_uuBbhrvNq0"
      },
      "source": [
        "df = pd.read_csv('/content/drive/My Drive/SMA project/Hawaiian_Predictors_revised.csv')\n",
        "df.head()\n",
        "\n",
        "X = df.iloc[:,4:-1].values\n",
        "y = df.iloc[:,32].values\n",
        "\n",
        "X_train, X_test, y_train, y_test = train_test_split(X, y, test_size=0.2, random_state=0)\n",
        "\n",
        "scaler = StandardScaler()\n",
        "scaler.fit(X_train)\n",
        "X_train = scaler.transform(X_train)\n",
        "X_test = scaler.transform(X_test)\n"
      ],
      "execution_count": 22,
      "outputs": []
    },
    {
      "cell_type": "code",
      "metadata": {
        "id": "lWfP55rIYmwh"
      },
      "source": [
        "def evaluate_performance(test_y, test_pred, print_vals=True):\n",
        "    cnf_matrix = metrics.confusion_matrix(test_y, test_pred)\n",
        "    \n",
        "    class_names=['Regime1', 'Regime2', 'Regime3', 'Regime5']\n",
        "    cnf_matrix = pd.DataFrame(cnf_matrix, index = class_names,\n",
        "                  columns = class_names)\n",
        "    \n",
        "    sns.heatmap(cnf_matrix, annot=True, cmap=\"magma\" ,fmt='g')\n",
        "    plt.tight_layout()\n",
        "    plt.title('Confusion matrix', y=1.1)\n",
        "    plt.ylabel('Actual label')\n",
        "    plt.xlabel('Predicted label')\n",
        "    \n",
        "    if print_vals :\n",
        "        count_misclassified = (test_y != test_pred).sum()\n",
        "        print('Misclassified samples: {}'.format(count_misclassified))\n",
        "        accuracy = metrics.accuracy_score(test_y, test_pred)\n",
        "        print('Classification Report:')\n",
        "        print(metrics.classification_report(test_y, test_pred)) "
      ],
      "execution_count": 23,
      "outputs": []
    },
    {
      "cell_type": "markdown",
      "metadata": {
        "id": "BsMT-5K8X1PZ"
      },
      "source": [
        "### Baseline Logistic Regression"
      ]
    },
    {
      "cell_type": "code",
      "metadata": {
        "id": "CaiKUgGS3OQy",
        "outputId": "804ab150-d882-44de-9aba-739e43e195b8",
        "colab": {
          "base_uri": "https://localhost:8080/",
          "height": 537
        }
      },
      "source": [
        "logReg = LogisticRegression(solver = 'saga',max_iter = 10000)\n",
        "logReg.fit(X, y)\n",
        "\n",
        "predictions = logReg.predict(X_test)\n",
        "score = logReg.score(X_test, y_test)\n",
        "print('Model score =',score)\n",
        "\n",
        "evaluate_performance(y_test, predictions, print_vals=True)"
      ],
      "execution_count": 24,
      "outputs": [
        {
          "output_type": "stream",
          "text": [
            "Model score = 0.6854838709677419\n",
            "Misclassified samples: 39\n",
            "Classification Report:\n",
            "              precision    recall  f1-score   support\n",
            "\n",
            "           1       0.67      0.77      0.72        31\n",
            "           2       0.76      0.67      0.71        42\n",
            "           3       0.64      0.36      0.46        25\n",
            "           5       0.65      0.92      0.76        26\n",
            "\n",
            "    accuracy                           0.69       124\n",
            "   macro avg       0.68      0.68      0.66       124\n",
            "weighted avg       0.69      0.69      0.67       124\n",
            "\n"
          ],
          "name": "stdout"
        },
        {
          "output_type": "display_data",
          "data": {
            "image/png": "[encoded data removed]",
            "text/plain": [
              "<Figure size 432x288 with 2 Axes>"
            ]
          },
          "metadata": {
            "tags": [],
            "needs_background": "light"
          }
        }
      ]
    },
    {
      "cell_type": "markdown",
      "metadata": {
        "id": "T3O96gUcX647"
      },
      "source": [
        "### Best model for baseline logistic regression"
      ]
    },
    {
      "cell_type": "code",
      "metadata": {
        "id": "b8UfLJv-YE60",
        "outputId": "310055dc-3208-40d6-9e95-a5b26ff5535e",
        "colab": {
          "base_uri": "https://localhost:8080/",
          "height": 537
        }
      },
      "source": [
        "from sklearn.model_selection import GridSearchCV\n",
        "from sklearn import metrics\n",
        "from sklearn.metrics import make_scorer\n",
        "hyperparameters = dict()\n",
        "clf = GridSearchCV(LogisticRegression(solver='newton-cg',\n",
        "multi_class='multinomial', penalty='l2',random_state=1),hyperparameters, cv=5, verbose=0,\n",
        "scoring=make_scorer(metrics.f1_score, average='micro', greater_is_better=True),return_train_score=True)\n",
        "best_model = clf.fit(X_train, y_train)\n",
        "best_model.cv_results_\n",
        "\n",
        "predictions = best_model.predict(X_test)\n",
        "score = best_model.score(X_test, y_test)\n",
        "print('Best model score =',score)\n",
        "\n",
        "evaluate_performance(y_test, predictions, print_vals=True)"
      ],
      "execution_count": 25,
      "outputs": [
        {
          "output_type": "stream",
          "text": [
            "Best model score = 0.7741935483870968\n",
            "Misclassified samples: 28\n",
            "Classification Report:\n",
            "              precision    recall  f1-score   support\n",
            "\n",
            "           1       0.75      0.87      0.81        31\n",
            "           2       0.84      0.74      0.78        42\n",
            "           3       0.63      0.76      0.69        25\n",
            "           5       0.90      0.73      0.81        26\n",
            "\n",
            "    accuracy                           0.77       124\n",
            "   macro avg       0.78      0.77      0.77       124\n",
            "weighted avg       0.79      0.77      0.78       124\n",
            "\n"
          ],
          "name": "stdout"
        },
        {
          "output_type": "display_data",
          "data": {
            "image/png": "[encoded data removed]",
            "text/plain": [
              "<Figure size 432x288 with 2 Axes>"
            ]
          },
          "metadata": {
            "tags": [],
            "needs_background": "light"
          }
        }
      ]
    }
  ]
}